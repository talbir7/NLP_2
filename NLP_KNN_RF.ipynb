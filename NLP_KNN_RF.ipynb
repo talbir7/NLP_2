{
 "cells": [
  {
   "cell_type": "markdown",
   "metadata": {},
   "source": [
    "# A project done by : \n",
    "\n",
    "* Rayhane Talbi\n",
    "    \n",
    "Python 3 is used for this project\n",
    "\n",
    "This Lab aims at implementing Machine Learning techniques for classifying text data.\n",
    "We decided to use KNN and Random Forest Algorithms in order to perform text classification on tweets.\n",
    "The tweets can be labeled into three categories :\n",
    "* Hateful tweets\n",
    "* Offensive tweets\n",
    "* None of them\n"
   ]
  },
  {
   "cell_type": "markdown",
   "metadata": {},
   "source": [
    "# Import libraries\n",
    "\n",
    "* Pandas for Data Analysis\n",
    "* Numpy for manipulating matrices and arrays\n",
    "* Nltk for text processing, tokenization, lemmatization, stemming and classification\n",
    "* Re for using regular expressions\n",
    "* String for dealing with text data\n",
    "* Sklearn for Machine Learning and Algorithms implementation\n",
    "* Matplotlib and Seaborn for plotting and Data Visualization"
   ]
  },
  {
   "cell_type": "code",
   "execution_count": 97,
   "metadata": {},
   "outputs": [],
   "source": [
    "import pandas as pd\n",
    "import numpy as np\n",
    "import nltk\n",
    "from nltk.tokenize import word_tokenize\n",
    "from nltk.corpus import stopwords\n",
    "from nltk.stem import WordNetLemmatizer, PorterStemmer\n",
    "import re\n",
    "import string\n",
    "import sklearn\n",
    "from sklearn import metrics, neighbors\n",
    "from sklearn.model_selection import train_test_split\n",
    "from sklearn.neighbors import KNeighborsClassifier\n",
    "from sklearn.model_selection import cross_val_score, cross_val_predict, cross_validate\n",
    "from sklearn.metrics import confusion_matrix\n",
    "from sklearn.metrics import classification_report\n",
    "from sklearn.metrics import plot_confusion_matrix\n",
    "from sklearn.feature_extraction.text import CountVectorizer, TfidfVectorizer, TfidfTransformer\n",
    "from sklearn.pipeline import make_pipeline, Pipeline\n",
    "import matplotlib.pyplot as plt\n",
    "from sklearn.ensemble import RandomForestClassifier\n",
    "import seaborn as sns\n",
    "%matplotlib inline"
   ]
  },
  {
   "cell_type": "markdown",
   "metadata": {},
   "source": [
    "# Import a public dataset"
   ]
  },
  {
   "cell_type": "markdown",
   "metadata": {},
   "source": [
    "The public Dataset we chose can be found on this Github Link : \n",
    "https://github.com/t-davidson/hate-speech-and-offensive-language/tree/master/data.\n",
    "The data is stored as a CSV file and as a pickled pandas dataframe.\n",
    "We chose to download the CSV file, read it using the pandas read_csv function and store it into a dataframe of our convenience."
   ]
  },
  {
   "cell_type": "code",
   "execution_count": 40,
   "metadata": {},
   "outputs": [],
   "source": [
    "# read dataset csv file \n",
    "df = pd.read_csv(\"labeled_data.csv\")"
   ]
  },
  {
   "cell_type": "code",
   "execution_count": 41,
   "metadata": {},
   "outputs": [
    {
     "data": {
      "image/png": "[encoded data removed]",
      "text/plain": [
       "<Figure size 432x288 with 1 Axes>"
      ]
     },
     "metadata": {},
     "output_type": "display_data"
    }
   ],
   "source": [
    "# plot the data distribution \n",
    "sns.barplot(x=[0,1,2], y=df.groupby(\"class\").count()['count'],  palette=\"ch:.25\")\n",
    "sns.set_style('dark')\n",
    "plt.show()"
   ]
  },
  {
   "cell_type": "markdown",
   "metadata": {},
   "source": [
    "=> Our Dataset is imbalanced since the second category include more samples than the two others. We expect this to be a complicating factor for further machine learning analysis and can make data exploration more challenging for us."
   ]
  },
  {
   "cell_type": "markdown",
   "metadata": {},
   "source": [
    "# Some Dataset cleaning"
   ]
  },
  {
   "cell_type": "code",
   "execution_count": 42,
   "metadata": {},
   "outputs": [],
   "source": [
    "# delete line with nan (to be sure)\n",
    "df = df.dropna(how='any')\n",
    "# remove first column (because it is the same as the index column)\n",
    "df = df.drop(df.columns[0], axis=1)\n",
    "# specify class names and define the categories we want to classify our text into\n",
    "class_names = [\"Hate Speech\",\"Offensive Language\",\"Neither\"]\n",
    "# remove count and classes columns from dataframe\n",
    "df = df.drop(columns=[\"count\",\"hate_speech\",\"offensive_language\",\"neither\"],axis=1)\n",
    "# add category column to dataframe\n",
    "df[\"Category\"] = df[\"class\"].map({0:\"Hate Speech\",1:\"Offensive Language\",2:\"Neither\"})"
   ]
  },
  {
   "cell_type": "code",
   "execution_count": 43,
   "metadata": {},
   "outputs": [
    {
     "data": {
      "text/plain": [
       "(24783, 3)"
      ]
     },
     "execution_count": 43,
     "metadata": {},
     "output_type": "execute_result"
    }
   ],
   "source": [
    "# check the number of rows and columns in the dataframe \n",
    "# we have 1 input feature (text) and 1 target output (class number)\n",
    "df.shape"
   ]
  },
  {
   "cell_type": "code",
   "execution_count": 45,
   "metadata": {},
   "outputs": [
    {
     "data": {
      "text/html": [
       "<div>\n",
       "<style scoped>\n",
       "    .dataframe tbody tr th:only-of-type {\n",
       "        vertical-align: middle;\n",
       "    }\n",
       "\n",
       "    .dataframe tbody tr th {\n",
       "        vertical-align: top;\n",
       "    }\n",
       "\n",
       "    .dataframe thead th {\n",
       "        text-align: right;\n",
       "    }\n",
       "</style>\n",
       "<table border=\"1\" class=\"dataframe\">\n",
       "  <thead>\n",
       "    <tr style=\"text-align: right;\">\n",
       "      <th></th>\n",
       "      <th>class</th>\n",
       "      <th>tweet</th>\n",
       "      <th>Category</th>\n",
       "    </tr>\n",
       "  </thead>\n",
       "  <tbody>\n",
       "    <tr>\n",
       "      <th>0</th>\n",
       "      <td>2</td>\n",
       "      <td>!!! RT @mayasolovely: As a woman you shouldn't...</td>\n",
       "      <td>Neither</td>\n",
       "    </tr>\n",
       "    <tr>\n",
       "      <th>1</th>\n",
       "      <td>1</td>\n",
       "      <td>!!!!! RT @mleew17: boy dats cold...tyga dwn ba...</td>\n",
       "      <td>Offensive Language</td>\n",
       "    </tr>\n",
       "    <tr>\n",
       "      <th>2</th>\n",
       "      <td>1</td>\n",
       "      <td>!!!!!!! RT @UrKindOfBrand Dawg!!!! RT @80sbaby...</td>\n",
       "      <td>Offensive Language</td>\n",
       "    </tr>\n",
       "    <tr>\n",
       "      <th>3</th>\n",
       "      <td>1</td>\n",
       "      <td>!!!!!!!!! RT @C_G_Anderson: @viva_based she lo...</td>\n",
       "      <td>Offensive Language</td>\n",
       "    </tr>\n",
       "    <tr>\n",
       "      <th>4</th>\n",
       "      <td>1</td>\n",
       "      <td>!!!!!!!!!!!!! RT @ShenikaRoberts: The shit you...</td>\n",
       "      <td>Offensive Language</td>\n",
       "    </tr>\n",
       "    <tr>\n",
       "      <th>5</th>\n",
       "      <td>1</td>\n",
       "      <td>!!!!!!!!!!!!!!!!!!\"@T_Madison_x: The shit just...</td>\n",
       "      <td>Offensive Language</td>\n",
       "    </tr>\n",
       "    <tr>\n",
       "      <th>6</th>\n",
       "      <td>1</td>\n",
       "      <td>!!!!!!\"@__BrighterDays: I can not just sit up ...</td>\n",
       "      <td>Offensive Language</td>\n",
       "    </tr>\n",
       "    <tr>\n",
       "      <th>7</th>\n",
       "      <td>1</td>\n",
       "      <td>!!!!&amp;#8220;@selfiequeenbri: cause I'm tired of...</td>\n",
       "      <td>Offensive Language</td>\n",
       "    </tr>\n",
       "    <tr>\n",
       "      <th>8</th>\n",
       "      <td>1</td>\n",
       "      <td>\" &amp;amp; you might not get ya bitch back &amp;amp; ...</td>\n",
       "      <td>Offensive Language</td>\n",
       "    </tr>\n",
       "    <tr>\n",
       "      <th>9</th>\n",
       "      <td>1</td>\n",
       "      <td>\" @rhythmixx_ :hobbies include: fighting Maria...</td>\n",
       "      <td>Offensive Language</td>\n",
       "    </tr>\n",
       "  </tbody>\n",
       "</table>\n",
       "</div>"
      ],
      "text/plain": [
       "   class                                              tweet  \\\n",
       "0      2  !!! RT @mayasolovely: As a woman you shouldn't...   \n",
       "1      1  !!!!! RT @mleew17: boy dats cold...tyga dwn ba...   \n",
       "2      1  !!!!!!! RT @UrKindOfBrand Dawg!!!! RT @80sbaby...   \n",
       "3      1  !!!!!!!!! RT @C_G_Anderson: @viva_based she lo...   \n",
       "4      1  !!!!!!!!!!!!! RT @ShenikaRoberts: The shit you...   \n",
       "5      1  !!!!!!!!!!!!!!!!!!\"@T_Madison_x: The shit just...   \n",
       "6      1  !!!!!!\"@__BrighterDays: I can not just sit up ...   \n",
       "7      1  !!!!&#8220;@selfiequeenbri: cause I'm tired of...   \n",
       "8      1  \" &amp; you might not get ya bitch back &amp; ...   \n",
       "9      1  \" @rhythmixx_ :hobbies include: fighting Maria...   \n",
       "\n",
       "             Category  \n",
       "0             Neither  \n",
       "1  Offensive Language  \n",
       "2  Offensive Language  \n",
       "3  Offensive Language  \n",
       "4  Offensive Language  \n",
       "5  Offensive Language  \n",
       "6  Offensive Language  \n",
       "7  Offensive Language  \n",
       "8  Offensive Language  \n",
       "9  Offensive Language  "
      ]
     },
     "execution_count": 45,
     "metadata": {},
     "output_type": "execute_result"
    }
   ],
   "source": [
    "# show examples of data (the first 10 lines for instance)\n",
    "df.head(10)"
   ]
  },
  {
   "cell_type": "code",
   "execution_count": 46,
   "metadata": {},
   "outputs": [
    {
     "data": {
      "text/html": [
       "<div>\n",
       "<style scoped>\n",
       "    .dataframe tbody tr th:only-of-type {\n",
       "        vertical-align: middle;\n",
       "    }\n",
       "\n",
       "    .dataframe tbody tr th {\n",
       "        vertical-align: top;\n",
       "    }\n",
       "\n",
       "    .dataframe thead th {\n",
       "        text-align: right;\n",
       "    }\n",
       "</style>\n",
       "<table border=\"1\" class=\"dataframe\">\n",
       "  <thead>\n",
       "    <tr style=\"text-align: right;\">\n",
       "      <th></th>\n",
       "      <th>tweet</th>\n",
       "      <th>Category</th>\n",
       "    </tr>\n",
       "    <tr>\n",
       "      <th>class</th>\n",
       "      <th></th>\n",
       "      <th></th>\n",
       "    </tr>\n",
       "  </thead>\n",
       "  <tbody>\n",
       "    <tr>\n",
       "      <th>0</th>\n",
       "      <td>1430</td>\n",
       "      <td>1430</td>\n",
       "    </tr>\n",
       "    <tr>\n",
       "      <th>1</th>\n",
       "      <td>19190</td>\n",
       "      <td>19190</td>\n",
       "    </tr>\n",
       "    <tr>\n",
       "      <th>2</th>\n",
       "      <td>4163</td>\n",
       "      <td>4163</td>\n",
       "    </tr>\n",
       "  </tbody>\n",
       "</table>\n",
       "</div>"
      ],
      "text/plain": [
       "       tweet  Category\n",
       "class                 \n",
       "0       1430      1430\n",
       "1      19190     19190\n",
       "2       4163      4163"
      ]
     },
     "execution_count": 46,
     "metadata": {},
     "output_type": "execute_result"
    }
   ],
   "source": [
    "# show number of tweets per class\n",
    "df.groupby(\"class\").count()"
   ]
  },
  {
   "cell_type": "markdown",
   "metadata": {},
   "source": [
    "# Perform two different preprocessing "
   ]
  },
  {
   "cell_type": "code",
   "execution_count": 47,
   "metadata": {},
   "outputs": [],
   "source": [
    "# download the list of english stopwords\n",
    "stop_words = set(stopwords.words('english'))\n",
    "# add some stopwords to the previous list for analysis improvment\n",
    "stop_words = stop_words.union({'arent', 'couldnt', 'didnt', 'doesnt', 'dont', 'hadnt', 'hasnt', 'havent', 'isnt', 'mightnt', 'mustnt', 'neednt', 'shant', 'shes', 'shouldnt', 'shouldve', 'thatll', 'wasnt', 'werent', 'wont', 'wouldnt', 'youd', 'youll', 'youre', 'youve'})\n",
    "# download the lemmatization dictionnary of words\n",
    "lemmatizer = WordNetLemmatizer()\n",
    "# download the English Stemmer\n",
    "stemmer =PorterStemmer()"
   ]
  },
  {
   "cell_type": "code",
   "execution_count": 48,
   "metadata": {},
   "outputs": [],
   "source": [
    "def preprocess1(text):\n",
    "    # lowercase text, remove URLs, RT, Users mentions, Emojis and numbers\n",
    "    # Perform tokenization and stemming\n",
    "    text = text.lower()\n",
    "    text = re.sub(r'&([a-z0-9]+|#[0-9]{1,6}|#x[0-9a-f]{1,6});','', text) #Emojis\n",
    "    text = re.sub(r'(http[s]?\\S+)|(\\w+\\.[A-Za-z]{2,4}\\S*)', '',text)\n",
    "    text = re.sub(r'@[\\w\\-]+', '',text)\n",
    "    text = re.sub(r\"rt[\\s]+\", \"\", text)\n",
    "    text = (re.compile('[^a-z ]')).sub('',text)\n",
    "    tokens = nltk.word_tokenize(text)\n",
    "    text_stem = [stemmer.stem(word) for word in tokens if word not in stop_words]\n",
    "    text_stem = \" \".join([t for t in text_stem])\n",
    "    return text_stem"
   ]
  },
  {
   "cell_type": "code",
   "execution_count": 49,
   "metadata": {},
   "outputs": [],
   "source": [
    "def preprocess2(text):\n",
    "    # lowercase text, remove URLs, RT, Users mentions, Emojis and numbers\n",
    "    # Perform tokenization and lemmatization\n",
    "    text = text.lower()\n",
    "    text = re.sub(r'@(\\d|[a-zA-Z])+', '',text)\n",
    "    text = re.sub(r'&([a-z0-9]+|#[0-9]{1,6}|#x[0-9a-f]{1,6});','', text) #Emojis\n",
    "    text = re.sub(r'(http[s]?\\S+)|(\\w+\\.[A-Za-z]{2,4}\\S*)', '',text)\n",
    "    text = re.sub(r'@[\\w\\-]+', '',text)\n",
    "    text = re.sub(r\"rt[\\s]+\", \"\", text)\n",
    "    text = (re.compile('[^a-z ]')).sub('',text)\n",
    "    tokens = nltk.word_tokenize(text)\n",
    "    text_lem = [lemmatizer.lemmatize(word) for word in tokens]\n",
    "    text_lem = \" \".join([t for t in text_lem])\n",
    "    return text_lem"
   ]
  },
  {
   "cell_type": "code",
   "execution_count": 50,
   "metadata": {},
   "outputs": [],
   "source": [
    "# for simplicity, start by applying the first preprocessing tasks \n",
    "df[\"tweet\"] = df[\"tweet\"].apply(preprocess1)"
   ]
  },
  {
   "cell_type": "markdown",
   "metadata": {},
   "source": [
    "# Split dataset"
   ]
  },
  {
   "cell_type": "code",
   "execution_count": 51,
   "metadata": {},
   "outputs": [],
   "source": [
    "# create a dataframe X for input feature and a dataframe Y for the target label column\n",
    "X = df[\"tweet\"]\n",
    "Y = df[\"class\"]"
   ]
  },
  {
   "cell_type": "code",
   "execution_count": 52,
   "metadata": {},
   "outputs": [
    {
     "data": {
      "text/plain": [
       "0           woman complain clean hous man alway take trash\n",
       "1         boy dat coldtyga dwn bad cuffin dat hoe st place\n",
       "2               dawg ever fuck bitch stato cri confus shit\n",
       "3                                         look like tranni\n",
       "4           shit hear might true might faker bitch told ya\n",
       "                               ...                        \n",
       "24778    you muthafin lie right tl trash mine bibl scri...\n",
       "24779         gone broke wrong heababi drove redneck crazi\n",
       "24780    young buck wan na eat dat nigguh like aint fuc...\n",
       "24781                       youu got wild bitch tellin lie\n",
       "24782    ruffl ntac eileen dahlia beauti color combin p...\n",
       "Name: tweet, Length: 24783, dtype: object"
      ]
     },
     "execution_count": 52,
     "metadata": {},
     "output_type": "execute_result"
    }
   ],
   "source": [
    "X"
   ]
  },
  {
   "cell_type": "code",
   "execution_count": 53,
   "metadata": {},
   "outputs": [
    {
     "data": {
      "text/plain": [
       "0        2\n",
       "1        1\n",
       "2        1\n",
       "3        1\n",
       "4        1\n",
       "        ..\n",
       "24778    1\n",
       "24779    2\n",
       "24780    1\n",
       "24781    1\n",
       "24782    2\n",
       "Name: class, Length: 24783, dtype: int64"
      ]
     },
     "execution_count": 53,
     "metadata": {},
     "output_type": "execute_result"
    }
   ],
   "source": [
    "Y"
   ]
  },
  {
   "cell_type": "code",
   "execution_count": 54,
   "metadata": {},
   "outputs": [],
   "source": [
    "# split the dataset into train and test data\n",
    "# We’ll load the final training data into X_train and labels into Y_train\n",
    "# Consider only 30% of data for testing and 70% of them for training\n",
    "X_train, X_test, Y_train, Y_test = train_test_split(X, Y, test_size=0.3, random_state=42, stratify=Y)\n",
    "# X_train : Feature training set ; Y_train : Label traning set ; X_test : Feature testing set ; Y_test : Label testing set"
   ]
  },
  {
   "cell_type": "markdown",
   "metadata": {},
   "source": [
    "# Implement Random Forest algorithm"
   ]
  },
  {
   "cell_type": "code",
   "execution_count": 91,
   "metadata": {},
   "outputs": [],
   "source": [
    "# make a list of all the tweets\n",
    "tweets = []\n",
    "for line in df['tweet']:\n",
    "    tweets.append(\"\".join(line))"
   ]
  },
  {
   "cell_type": "code",
   "execution_count": 93,
   "metadata": {},
   "outputs": [],
   "source": [
    "# create a td-idf vectorizer and fit it on the data\n",
    "tfidfconverter = TfidfVectorizer(max_features=1500, min_df=5, max_df=0.7, stop_words=stopwords.words('english'))\n",
    "X_tfidf = tfidfconverter.fit_transform(tweets).toarray()"
   ]
  },
  {
   "cell_type": "code",
   "execution_count": 94,
   "metadata": {},
   "outputs": [],
   "source": [
    "# create a Random-Forest classifier\n",
    "clf = RandomForestClassifier(n_estimators = 1000,max_depth=5, random_state=0)\n",
    "cv_results =cross_val_score(clf, X_tfidf, df['class'],scoring='recall_micro', cv = 3)"
   ]
  },
  {
   "cell_type": "code",
   "execution_count": 95,
   "metadata": {},
   "outputs": [
    {
     "data": {
      "text/plain": [
       "0.7743211072105879"
      ]
     },
     "execution_count": 95,
     "metadata": {},
     "output_type": "execute_result"
    }
   ],
   "source": [
    "# get the average of scores\n",
    "np.mean(cv_results)"
   ]
  },
  {
   "cell_type": "code",
   "execution_count": 96,
   "metadata": {},
   "outputs": [],
   "source": [
    "# get the predictions on the test data\n",
    "y_pred = cross_val_predict(clf,X_tfidf, df['class'], cv=5)"
   ]
  },
  {
   "cell_type": "code",
   "execution_count": 98,
   "metadata": {},
   "outputs": [],
   "source": [
    "# get the confusion matrix\n",
    "conf_mat = confusion_matrix(df['class'], y_pred)"
   ]
  },
  {
   "cell_type": "code",
   "execution_count": 101,
   "metadata": {},
   "outputs": [
    {
     "name": "stdout",
     "output_type": "stream",
     "text": [
      "Confusion matrix :\n",
      "\n",
      "[[    0  1430     0]\n",
      " [    0 19190     0]\n",
      " [    0  4163     0]]\n",
      "\n",
      "Classification report :\n",
      "\n",
      "              precision    recall  f1-score   support\n",
      "\n",
      "           0       0.00      0.00      0.00      1430\n",
      "           1       0.77      1.00      0.87     19190\n",
      "           2       0.00      0.00      0.00      4163\n",
      "\n",
      "    accuracy                           0.77     24783\n",
      "   macro avg       0.26      0.33      0.29     24783\n",
      "weighted avg       0.60      0.77      0.68     24783\n",
      "\n",
      "Accuracy:\n",
      "0.7743211072105879\n"
     ]
    }
   ],
   "source": [
    "# get the metrics values\n",
    "print(\"Confusion matrix :\\n\")\n",
    "print(confusion_matrix(df['class'],y_pred))\n",
    "print(\"\\nClassification report :\\n\")\n",
    "print(classification_report(df['class'],y_pred))\n",
    "print(\"Accuracy:\")\n",
    "print(metrics.accuracy_score(df['class'], y_pred))"
   ]
  },
  {
   "cell_type": "markdown",
   "metadata": {},
   "source": [
    "# Implement KNN Algorithm "
   ]
  },
  {
   "cell_type": "markdown",
   "metadata": {},
   "source": [
    "We need numerical representation of words to feed them into our K-NN algorithm in order to compute distances and make predictions.\n",
    "To do so, we had to opt for a numerical representation of text using bag of words with tf-idf(Term Frequency - Inverse document frequency)."
   ]
  },
  {
   "cell_type": "code",
   "execution_count": 63,
   "metadata": {},
   "outputs": [],
   "source": [
    "# create a bag of words vectorizer to transform text data into numerical data\n",
    "count_vect = CountVectorizer()\n",
    "X_train_counts = count_vect.fit_transform(X_train)"
   ]
  },
  {
   "cell_type": "code",
   "execution_count": 64,
   "metadata": {},
   "outputs": [],
   "source": [
    "# generating feature vectors of token counts and then transform into tf-idf representation\n",
    "# make us of the tf-idf method\n",
    "tfidf_transformer = TfidfTransformer()\n",
    "X_train_tfidf = tfidf_transformer.fit_transform(X_train_counts)"
   ]
  },
  {
   "cell_type": "code",
   "execution_count": 65,
   "metadata": {},
   "outputs": [],
   "source": [
    "# create a KNN classifier with a numer of neighbours chosen for simplicity as 5\n",
    "knn = KNeighborsClassifier(n_neighbors=5)"
   ]
  },
  {
   "cell_type": "code",
   "execution_count": 66,
   "metadata": {},
   "outputs": [
    {
     "data": {
      "text/plain": [
       "Pipeline(memory=None,\n",
       "         steps=[('tfidf',\n",
       "                 TfidfVectorizer(analyzer='word', binary=False,\n",
       "                                 decode_error='strict',\n",
       "                                 dtype=<class 'numpy.float64'>,\n",
       "                                 encoding='utf-8', input='content',\n",
       "                                 lowercase=True, max_df=1.0, max_features=None,\n",
       "                                 min_df=1, ngram_range=(1, 1), norm='l2',\n",
       "                                 preprocessor=None, smooth_idf=True,\n",
       "                                 stop_words=None, strip_accents=None,\n",
       "                                 sublinear_tf=False,\n",
       "                                 token_pattern='(?u)\\\\b\\\\w\\\\w+\\\\b',\n",
       "                                 tokenizer=None, use_idf=True,\n",
       "                                 vocabulary=None)),\n",
       "                ('clf',\n",
       "                 KNeighborsClassifier(algorithm='auto', leaf_size=30,\n",
       "                                      metric='minkowski', metric_params=None,\n",
       "                                      n_jobs=None, n_neighbors=5, p=2,\n",
       "                                      weights='uniform'))],\n",
       "         verbose=False)"
      ]
     },
     "execution_count": 66,
     "metadata": {},
     "output_type": "execute_result"
    }
   ],
   "source": [
    "# create a pipeline to add the vectorizers, the transformer and the classifier all in a one compound classifier\n",
    "text_clf = Pipeline([('tfidf', TfidfVectorizer()), ('clf', knn)])\n",
    "# train the model : we assign the class variables to training data => knn uses lazy training which means that computation is differed till computation\n",
    "text_clf.fit(X_train, Y_train)"
   ]
  },
  {
   "cell_type": "markdown",
   "metadata": {},
   "source": [
    "# Evaluate the model : Accuracy, Precision, Recall, F1 score, Confusion matrix and K values"
   ]
  },
  {
   "cell_type": "code",
   "execution_count": 67,
   "metadata": {},
   "outputs": [],
   "source": [
    "# Predict the output of our input text by using the classifier we just trained\n",
    "predictions = text_clf.predict(X_test)"
   ]
  },
  {
   "cell_type": "code",
   "execution_count": 75,
   "metadata": {},
   "outputs": [
    {
     "name": "stdout",
     "output_type": "stream",
     "text": [
      "KNN with TFIDF accuracy = 81.31809011432414%\n"
     ]
    }
   ],
   "source": [
    "# get the accuracy scores\n",
    "acc = metrics.accuracy_score(Y_test, predictions)\n",
    "print('KNN with TFIDF accuracy = ' + str(acc * 100) + '%')"
   ]
  },
  {
   "cell_type": "code",
   "execution_count": 69,
   "metadata": {},
   "outputs": [
    {
     "name": "stdout",
     "output_type": "stream",
     "text": [
      "              precision    recall  f1-score   support\n",
      "\n",
      "           0       0.39      0.18      0.24       429\n",
      "           1       0.83      0.97      0.89      5757\n",
      "           2       0.80      0.33      0.47      1249\n",
      "\n",
      "    accuracy                           0.81      7435\n",
      "   macro avg       0.67      0.49      0.53      7435\n",
      "weighted avg       0.80      0.81      0.78      7435\n",
      "\n"
     ]
    }
   ],
   "source": [
    "# print the classification report \n",
    "print(metrics.classification_report(Y_test, predictions))"
   ]
  },
  {
   "cell_type": "code",
   "execution_count": 70,
   "metadata": {},
   "outputs": [
    {
     "name": "stdout",
     "output_type": "stream",
     "text": [
      "[[  76  346    7]\n",
      " [ 100 5559   98]\n",
      " [  19  819  411]]\n"
     ]
    }
   ],
   "source": [
    "# plot the confusion matrix\n",
    "print(metrics.confusion_matrix(Y_test, predictions))"
   ]
  },
  {
   "cell_type": "code",
   "execution_count": 71,
   "metadata": {},
   "outputs": [],
   "source": [
    "def plot_confusion_matrix(cm,\n",
    "                          target_names,\n",
    "                          title='Confusion matrix',\n",
    "                          cmap=None,\n",
    "                          normalize=True):\n",
    "    \"\"\"\n",
    "    given a sklearn confusion matrix (cm), make a nice plot\n",
    "    Arguments\n",
    "    ---------\n",
    "    cm:           confusion matrix from sklearn.metrics.confusion_matrix\n",
    "    target_names: given classification classes such as [0, 1, 2]\n",
    "                  the class names, for example: ['high', 'medium', 'low']\n",
    "    title:        the text to display at the top of the matrix\n",
    "    cmap:         the gradient of the values displayed from matplotlib.pyplot.cm\n",
    "                  see http://matplotlib.org/examples/color/colormaps_reference.html\n",
    "                  plt.get_cmap('jet') or plt.cm.Blues\n",
    "    normalize:    If False, plot the raw numbers\n",
    "                  If True, plot the proportions\n",
    "    Usage\n",
    "    -----\n",
    "    plot_confusion_matrix(cm           = cm,                  # confusion matrix created by\n",
    "                                                              # sklearn.metrics.confusion_matrix\n",
    "                          normalize    = True,                # show proportions\n",
    "                          target_names = y_labels_vals,       # list of names of the classes\n",
    "                          title        = best_estimator_name) # title of graph\n",
    "    \"\"\"\n",
    "    import matplotlib.pyplot as plt\n",
    "    import numpy as np\n",
    "    import itertools\n",
    "    accuracy = np.trace(cm) / float(np.sum(cm))\n",
    "    misclass = 1 - accuracy\n",
    "    if cmap is None:\n",
    "        cmap = plt.get_cmap('Blues')\n",
    "    plt.figure(figsize=(8, 6))\n",
    "    plt.imshow(cm, interpolation='nearest', cmap=cmap)\n",
    "    plt.title(title)\n",
    "    plt.colorbar()\n",
    "    if target_names is not None:\n",
    "        tick_marks = np.arange(len(target_names))\n",
    "        plt.xticks(tick_marks, target_names, rotation=45)\n",
    "        plt.yticks(tick_marks, target_names)\n",
    "    if normalize:\n",
    "        cm = cm.astype('float') / cm.sum(axis=1)[:, np.newaxis]\n",
    "    thresh = cm.max() / 1.5 if normalize else cm.max() / 2\n",
    "    for i, j in itertools.product(range(cm.shape[0]), range(cm.shape[1])):\n",
    "        if normalize:\n",
    "            plt.text(j, i, \"{:0.4f}\".format(cm[i, j]),\n",
    "                     horizontalalignment=\"center\",\n",
    "                     color=\"white\" if cm[i, j] > thresh else \"black\")\n",
    "        else:\n",
    "            plt.text(j, i, \"{:,}\".format(cm[i, j]),\n",
    "                     horizontalalignment=\"center\",\n",
    "                     color=\"white\" if cm[i, j] > thresh else \"black\")\n",
    "    plt.tight_layout()\n",
    "    plt.ylabel('True label')\n",
    "    plt.xlabel('Predicted label\\naccuracy={:0.4f}; misclass={:0.4f}'.format(accuracy, misclass))\n",
    "    plt.show()"
   ]
  },
  {
   "cell_type": "code",
   "execution_count": 72,
   "metadata": {},
   "outputs": [
    {
     "data": {
      "image/png": "[encoded data removed]",
      "text/plain": [
       "<Figure size 576x432 with 2 Axes>"
      ]
     },
     "metadata": {},
     "output_type": "display_data"
    }
   ],
   "source": [
    "# plot the confusion matrix of preprocessing 1\n",
    "plot_confusion_matrix(np.array(\n",
    "[[  83,  337,    9],\n",
    " [ 114, 5547,   96],\n",
    " [  24,  805,  420]]),normalize    = False,\n",
    "                      target_names = ['Hate Speech', 'Offensive Language', 'Neither'],\n",
    "                      title        = \"Confusion Matrix\")"
   ]
  },
  {
   "cell_type": "code",
   "execution_count": 73,
   "metadata": {},
   "outputs": [
    {
     "data": {
      "image/png": "[encoded data removed]",
      "text/plain": [
       "<Figure size 576x432 with 2 Axes>"
      ]
     },
     "metadata": {},
     "output_type": "display_data"
    }
   ],
   "source": [
    "# plot the confusion matrix of preprocessing 2\n",
    "plot_confusion_matrix(np.array(\n",
    "[[  83,  337,    9],\n",
    " [ 114, 5547,   96],\n",
    " [  24,  805,  420]]),normalize    = False,\n",
    "                      target_names = ['Hate Speech', 'Offensive Language', 'Neither'],\n",
    "                      title        = \"Confusion Matrix\")"
   ]
  },
  {
   "cell_type": "markdown",
   "metadata": {},
   "source": [
    "# Perform Cross-Validation"
   ]
  },
  {
   "cell_type": "markdown",
   "metadata": {},
   "source": [
    "In k-fold cross-validation, the original sample is randomly partitioned into c equal size subsamples.\n",
    "Here, we choose a value of c=5 and therefore we iterate 5 times over the entire dataset."
   ]
  },
  {
   "cell_type": "code",
   "execution_count": 76,
   "metadata": {},
   "outputs": [],
   "source": [
    "# Use k-fold cross-validation to train the model\n",
    "cv_scores = cross_val_score(text_clf, X, Y, cv=5, scoring=\"accuracy\")"
   ]
  },
  {
   "cell_type": "code",
   "execution_count": 77,
   "metadata": {},
   "outputs": [
    {
     "data": {
      "text/plain": [
       "array([0.79745814, 0.81057091, 0.81299173, 0.8220339 , 0.81255044])"
      ]
     },
     "execution_count": 77,
     "metadata": {},
     "output_type": "execute_result"
    }
   ],
   "source": [
    "cv_scores"
   ]
  },
  {
   "cell_type": "code",
   "execution_count": 78,
   "metadata": {},
   "outputs": [
    {
     "data": {
      "text/plain": [
       "0.8111210241816508"
      ]
     },
     "execution_count": 78,
     "metadata": {},
     "output_type": "execute_result"
    }
   ],
   "source": [
    "# print the average of scores\n",
    "cv_scores.mean()"
   ]
  },
  {
   "cell_type": "code",
   "execution_count": 79,
   "metadata": {},
   "outputs": [],
   "source": [
    "# print the F1-score\n",
    "f1_scores = cross_val_score(text_clf, X, Y, cv=5, scoring='f1_macro')"
   ]
  },
  {
   "cell_type": "code",
   "execution_count": 80,
   "metadata": {},
   "outputs": [
    {
     "data": {
      "text/plain": [
       "array([0.49284624, 0.5890751 , 0.53291744, 0.52183074, 0.5262936 ])"
      ]
     },
     "execution_count": 80,
     "metadata": {},
     "output_type": "execute_result"
    }
   ],
   "source": [
    "f1_scores"
   ]
  },
  {
   "cell_type": "code",
   "execution_count": 81,
   "metadata": {},
   "outputs": [
    {
     "data": {
      "text/plain": [
       "0.5325926224918227"
      ]
     },
     "execution_count": 81,
     "metadata": {},
     "output_type": "execute_result"
    }
   ],
   "source": [
    "# print the average of F1 scores\n",
    "f1_scores.mean()"
   ]
  },
  {
   "cell_type": "markdown",
   "metadata": {},
   "source": [
    "# Find the optimal value of K for which the model has the best performance\n"
   ]
  },
  {
   "cell_type": "code",
   "execution_count": 82,
   "metadata": {},
   "outputs": [
    {
     "name": "stdout",
     "output_type": "stream",
     "text": [
      "0.8162468203449735\n"
     ]
    }
   ],
   "source": [
    "# iterate of different values of K (here for example : from 1 to 15)\n",
    "# other optimisation algorithms like GrisearchCV can be implemented for the same purpose\n",
    "k_range = range(1, 15)\n",
    "# list of scores from k_range\n",
    "k_scores = []\n",
    "# 1. we will loop through reasonable values of k\n",
    "for k in k_range:\n",
    "    # 2. run KNeighborsClassifier with k neighbours and generate a tf-idf pipeline\n",
    "    knn_ = KNeighborsClassifier(n_neighbors=k)\n",
    "    text_clf_ = Pipeline([('tfidf', TfidfVectorizer()), ('clf', knn_)])\n",
    "    # 3. obtain cross_val_score for KNeighborsClassifier with k neighbours\n",
    "    scores = cross_val_score(text_clf_, X, Y, cv=10, scoring='accuracy')\n",
    "    # 4. append mean of scores for k neighbors to k_scores list\n",
    "    k_scores.append(scores.mean())\n",
    "# get the value of K for which we have the best accuracy score\n",
    "print(max(k_scores))"
   ]
  },
  {
   "cell_type": "code",
   "execution_count": 84,
   "metadata": {},
   "outputs": [
    {
     "data": {
      "text/plain": [
       "<Figure size 432x288 with 0 Axes>"
      ]
     },
     "metadata": {},
     "output_type": "display_data"
    },
    {
     "data": {
      "image/png": "[encoded data removed]",
      "text/plain": [
       "<Figure size 720x360 with 1 Axes>"
      ]
     },
     "metadata": {},
     "output_type": "display_data"
    }
   ],
   "source": [
    "# plot the distribution of the accuracy scores given the different values of K\n",
    "MSE = [x for x in k_scores]\n",
    "plt.figure()\n",
    "plt.figure(figsize=(10,5))\n",
    "plt.title('The optimal number of neighbors', fontsize=20, fontweight='bold')\n",
    "plt.xlabel('Number of Neighbors K', fontsize=15)\n",
    "plt.ylabel('Misclassification Accuracy', fontsize=15)\n",
    "sns.set_style(\"whitegrid\")\n",
    "plt.plot(k_range, MSE)\n",
    "plt.show()"
   ]
  },
  {
   "cell_type": "code",
   "execution_count": 86,
   "metadata": {},
   "outputs": [
    {
     "data": {
      "text/plain": [
       "<Figure size 432x288 with 0 Axes>"
      ]
     },
     "metadata": {},
     "output_type": "display_data"
    },
    {
     "data": {
      "image/png": "[encoded data removed]",
      "text/plain": [
       "<Figure size 720x360 with 1 Axes>"
      ]
     },
     "metadata": {},
     "output_type": "display_data"
    }
   ],
   "source": [
    "# plot the distribution of the error scores given the different values of K\n",
    "MSE = [1-x for x in k_scores]\n",
    "plt.figure()\n",
    "plt.figure(figsize=(10,5))\n",
    "plt.title('The optimal number of neighbors', fontsize=20, fontweight='bold')\n",
    "plt.xlabel('Number of Neighbors K', fontsize=15)\n",
    "plt.ylabel('Misclassification Error', fontsize=15)\n",
    "sns.set_style(\"whitegrid\")\n",
    "plt.plot(k_range, MSE)\n",
    "plt.show()"
   ]
  },
  {
   "cell_type": "markdown",
   "metadata": {},
   "source": [
    "# Overall Results Analysis"
   ]
  },
  {
   "cell_type": "markdown",
   "metadata": {},
   "source": [
    "From running our algorithms, we started by plotting a kind of a classification report and we provided classification reports for the two different preprocessing tasks and they show us different key metrics which are : the support, the precision, the recall and the f1 score, so we’re going to quickly go through each one of them :\n",
    "* the support simply displays the number of objects of each given class in our test dataset, it means that for instance we have 429 objetcs of class_0, 5757 of class_1 and 1249 of class_2 and that’s why values don’t change when we perform the two different preprocessing tasks because we’re simply performing on the same test dataset. \n",
    "However, we can say that our training data is not a really well balanced one since there’s not an equal distribution of data among the three classes, here for instance it’s clear that the class 1 which refers to offensive tweets has more samples than the other two classes\n",
    "* The precision, on the other side, gives us an idea about the proportions of predictions that are true and correctly classified for each class. So for the first and second preprocessing cases for example and for the KNN algorithm, we can say that more than 80% of the predictions for the two last classes are actually of the predicted class while the rest are actually of the opposite one. However, this is not at all the case for the first class which refers to hateful tweets because only 41% for the first preprocessing and 37 % percent of the predicted samples for the second preprocessing belong to the actual class. \n",
    "* When we look at the recall, we can also say that our classifier is correctly identifying 96% of the class 1 which is really good however its missing out the tweets belonging to the two other classes and its only correctly recognizing a small percentage of them.\n",
    "* And The f1 score is kind of a mean between the precision and recall values.\n",
    "And finally we came up with an accuracy of 81% for the two preprocessing cases and it seems that all of the metrics values are quietly similar when we performed the two different preprocessing tasks meaning that our results don’t really rely on the preprocessing method we choose.\n",
    "So to conclude, we can say that the value of our accuracy may be misleading because despite our accuracy value, the model is hardly able to detect the objectfs of the first class and one of the reasons for that may be that our testing set is imbalanced and the fact that there are only few samples of the first class.\n",
    "And in order to further check the performance of our classifier and how far it can well perform, we have also generated what we call a confusion matrix : a simple tool with two dimensions for evaluating a model performance.\n",
    "In our case, we have 3 rows and 3 columns each row of the matrix refers to the instances in each of the 3 actual classes and each column refers to the instances in each of the 3 predicted classes.\n",
    "To make it clearer, we can say that in the example of the KNN confusion matrix using the first preprocessing tasks , out of 429 objects of the first class which refers to hate speech or hateful tweets, only 83 objects of them are actually classified as hateful tweets while the others were being mislabeled.\n",
    "So here again we can say that the predictions for the first class are not accurate and that our model needs further improvements. \n",
    "That’s why, we’ve thought about a way of optimization and varying the K value. The basic idea behind this is to see if varying the value of the neigbors number can have an influence on the accuracy results. And here again, we can see that increasing the value of K and running the algorithm on each value of K does not really affect the performance of our classifier. \n",
    "=> All of the results that we came with emphasize the fact that our data is a kind of poor and not weel balanced and that our model needs further ways of improvments if we want to come up with better results."
   ]
  }
 ],
 "metadata": {
  "kernelspec": {
   "display_name": "Python 3",
   "language": "python",
   "name": "python3"
  },
  "language_info": {
   "codemirror_mode": {
    "name": "ipython",
    "version": 3
   },
   "file_extension": ".py",
   "mimetype": "text/x-python",
   "name": "python",
   "nbconvert_exporter": "python",
   "pygments_lexer": "ipython3",
   "version": "3.7.6"
  }
 },
 "nbformat": 4,
 "nbformat_minor": 4
}
